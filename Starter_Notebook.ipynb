{
 "cells": [
  {
   "cell_type": "markdown",
   "id": "a02285e6",
   "metadata": {
    "id": "a02285e6"
   },
   "source": [
    "# Starter Notebook"
   ]
  },
  {
   "cell_type": "markdown",
   "id": "bdcc5329",
   "metadata": {
    "id": "bdcc5329"
   },
   "source": [
    "Install and import required libraries"
   ]
  },
  {
   "cell_type": "code",
   "execution_count": 1,
   "id": "348ceed6-b684-46c3-8a32-9bb640c9a9d7",
   "metadata": {
    "id": "348ceed6-b684-46c3-8a32-9bb640c9a9d7"
   },
   "outputs": [
    {
     "name": "stdout",
     "output_type": "stream",
     "text": [
      "Looking in indexes: https://pypi.tuna.tsinghua.edu.cn/simple\n",
      "Requirement already satisfied: transformers in d:\\conda\\envs\\accelerate\\lib\\site-packages (4.51.2)\n",
      "Collecting datasets\n",
      "  Downloading https://pypi.tuna.tsinghua.edu.cn/packages/b4/83/50abe521eb75744a01efe2ebe836a4b61f4df37941a776f650f291aabdf9/datasets-3.5.0-py3-none-any.whl (491 kB)\n",
      "Collecting evaluate\n",
      "  Downloading https://pypi.tuna.tsinghua.edu.cn/packages/a2/e7/cbca9e2d2590eb9b5aa8f7ebabe1beb1498f9462d2ecede5c9fd9735faaf/evaluate-0.4.3-py3-none-any.whl (84 kB)\n",
      "Collecting accelerate\n",
      "  Downloading https://pypi.tuna.tsinghua.edu.cn/packages/63/b1/8198e3cdd11a426b1df2912e3381018c4a4a55368f6d0857ba3ca418ef93/accelerate-1.6.0-py3-none-any.whl (354 kB)\n",
      "Collecting peft\n",
      "  Downloading https://pypi.tuna.tsinghua.edu.cn/packages/68/85/8e6ea3d1089f2b6de3c1cd34bbbd7560912af9d34b057be3b8b8fefe1da3/peft-0.15.2-py3-none-any.whl (411 kB)\n",
      "Collecting trl\n",
      "  Downloading https://pypi.tuna.tsinghua.edu.cn/packages/a5/e0/02e129c156d38a408274276def68524fd080b1242780cc23d7e261571157/trl-0.16.1-py3-none-any.whl (336 kB)\n",
      "Collecting bitsandbytes\n",
      "  Downloading https://pypi.tuna.tsinghua.edu.cn/packages/a6/4c/77b535e025ce780d2ada8271c1e481fb7337c1df2588a52fe1c9bd87d2e8/bitsandbytes-0.45.5-py3-none-win_amd64.whl (75.4 MB)\n",
      "     ---------------------------------------- 0.0/75.4 MB ? eta -:--:--\n",
      "     ---------------------------------------- 0.8/75.4 MB 3.7 MB/s eta 0:00:20\n",
      "      --------------------------------------- 1.3/75.4 MB 3.4 MB/s eta 0:00:23\n",
      "     - -------------------------------------- 2.1/75.4 MB 3.3 MB/s eta 0:00:23\n",
      "     - -------------------------------------- 2.6/75.4 MB 3.4 MB/s eta 0:00:22\n",
      "     - -------------------------------------- 3.4/75.4 MB 3.1 MB/s eta 0:00:23\n",
      "     -- ------------------------------------- 4.2/75.4 MB 3.4 MB/s eta 0:00:21\n",
      "     -- ------------------------------------- 5.0/75.4 MB 3.5 MB/s eta 0:00:21\n",
      "     --- ------------------------------------ 6.0/75.4 MB 3.5 MB/s eta 0:00:20\n",
      "     --- ------------------------------------ 6.8/75.4 MB 3.6 MB/s eta 0:00:20\n",
      "     ---- ----------------------------------- 7.6/75.4 MB 3.6 MB/s eta 0:00:19\n",
      "     ---- ----------------------------------- 8.7/75.4 MB 3.8 MB/s eta 0:00:18\n",
      "     ----- ---------------------------------- 9.4/75.4 MB 3.8 MB/s eta 0:00:18\n",
      "     ----- ---------------------------------- 10.2/75.4 MB 3.8 MB/s eta 0:00:18\n",
      "     ----- ---------------------------------- 11.0/75.4 MB 3.8 MB/s eta 0:00:17\n",
      "     ------ --------------------------------- 11.8/75.4 MB 3.8 MB/s eta 0:00:17\n",
      "     ------ --------------------------------- 12.6/75.4 MB 3.8 MB/s eta 0:00:17\n",
      "     ------- -------------------------------- 13.4/75.4 MB 3.8 MB/s eta 0:00:17\n",
      "     ------- -------------------------------- 14.2/75.4 MB 3.8 MB/s eta 0:00:17\n",
      "     ------- -------------------------------- 14.9/75.4 MB 3.8 MB/s eta 0:00:16\n",
      "     -------- ------------------------------- 15.7/75.4 MB 3.8 MB/s eta 0:00:16\n",
      "     -------- ------------------------------- 16.5/75.4 MB 3.8 MB/s eta 0:00:16\n",
      "     --------- ------------------------------ 17.3/75.4 MB 3.8 MB/s eta 0:00:16\n",
      "     --------- ------------------------------ 18.1/75.4 MB 3.8 MB/s eta 0:00:15\n",
      "     ---------- ----------------------------- 19.1/75.4 MB 3.8 MB/s eta 0:00:15\n",
      "     ---------- ----------------------------- 19.9/75.4 MB 3.8 MB/s eta 0:00:15\n",
      "     ---------- ----------------------------- 20.7/75.4 MB 3.8 MB/s eta 0:00:15\n",
      "     ----------- ---------------------------- 21.5/75.4 MB 3.8 MB/s eta 0:00:15\n",
      "     ----------- ---------------------------- 22.3/75.4 MB 3.8 MB/s eta 0:00:14\n",
      "     ------------ --------------------------- 23.1/75.4 MB 3.8 MB/s eta 0:00:14\n",
      "     ------------ --------------------------- 23.9/75.4 MB 3.8 MB/s eta 0:00:14\n",
      "     ------------- -------------------------- 24.6/75.4 MB 3.8 MB/s eta 0:00:14\n",
      "     ------------- -------------------------- 25.4/75.4 MB 3.8 MB/s eta 0:00:14\n",
      "     ------------- -------------------------- 26.2/75.4 MB 3.8 MB/s eta 0:00:14\n",
      "     -------------- ------------------------- 27.0/75.4 MB 3.8 MB/s eta 0:00:13\n",
      "     -------------- ------------------------- 27.8/75.4 MB 3.8 MB/s eta 0:00:13\n",
      "     --------------- ------------------------ 28.8/75.4 MB 3.8 MB/s eta 0:00:13\n",
      "     --------------- ------------------------ 29.6/75.4 MB 3.8 MB/s eta 0:00:12\n",
      "     ---------------- ----------------------- 30.4/75.4 MB 3.8 MB/s eta 0:00:12\n",
      "     ---------------- ----------------------- 31.2/75.4 MB 3.8 MB/s eta 0:00:12\n",
      "     ----------------- ---------------------- 32.2/75.4 MB 3.8 MB/s eta 0:00:12\n",
      "     ----------------- ---------------------- 33.0/75.4 MB 3.8 MB/s eta 0:00:12\n",
      "     ----------------- ---------------------- 33.8/75.4 MB 3.8 MB/s eta 0:00:11\n",
      "     ------------------ --------------------- 34.3/75.4 MB 3.8 MB/s eta 0:00:11\n",
      "     ------------------ --------------------- 35.1/75.4 MB 3.8 MB/s eta 0:00:11\n",
      "     ------------------- -------------------- 35.9/75.4 MB 3.8 MB/s eta 0:00:11\n",
      "     ------------------- -------------------- 36.7/75.4 MB 3.8 MB/s eta 0:00:11\n",
      "     ------------------- -------------------- 37.2/75.4 MB 3.8 MB/s eta 0:00:11\n",
      "     -------------------- ------------------- 38.3/75.4 MB 3.8 MB/s eta 0:00:10\n",
      "     -------------------- ------------------- 38.8/75.4 MB 3.7 MB/s eta 0:00:10\n",
      "     -------------------- ------------------- 39.3/75.4 MB 3.7 MB/s eta 0:00:10\n",
      "     --------------------- ------------------ 40.1/75.4 MB 3.7 MB/s eta 0:00:10\n",
      "     --------------------- ------------------ 40.6/75.4 MB 3.7 MB/s eta 0:00:10\n",
      "     --------------------- ------------------ 41.2/75.4 MB 3.7 MB/s eta 0:00:10\n",
      "     ---------------------- ----------------- 41.9/75.4 MB 3.7 MB/s eta 0:00:10\n",
      "     ---------------------- ----------------- 42.7/75.4 MB 3.7 MB/s eta 0:00:09\n",
      "     ---------------------- ----------------- 43.0/75.4 MB 3.7 MB/s eta 0:00:09\n",
      "     ----------------------- ---------------- 44.0/75.4 MB 3.7 MB/s eta 0:00:09\n",
      "     ----------------------- ---------------- 44.8/75.4 MB 3.7 MB/s eta 0:00:09\n",
      "     ------------------------ --------------- 45.4/75.4 MB 3.6 MB/s eta 0:00:09\n",
      "     ------------------------ --------------- 46.4/75.4 MB 3.6 MB/s eta 0:00:08\n",
      "     ------------------------- -------------- 47.2/75.4 MB 3.6 MB/s eta 0:00:08\n",
      "     ------------------------- -------------- 48.0/75.4 MB 3.6 MB/s eta 0:00:08\n",
      "     ------------------------- -------------- 48.5/75.4 MB 3.6 MB/s eta 0:00:08\n",
      "     ------------------------- -------------- 48.5/75.4 MB 3.6 MB/s eta 0:00:08\n",
      "     ------------------------- -------------- 49.0/75.4 MB 3.6 MB/s eta 0:00:08\n",
      "     -------------------------- ------------- 49.3/75.4 MB 3.5 MB/s eta 0:00:08\n",
      "     -------------------------- ------------- 49.8/75.4 MB 3.5 MB/s eta 0:00:08\n",
      "     -------------------------- ------------- 50.1/75.4 MB 3.5 MB/s eta 0:00:08\n",
      "     -------------------------- ------------- 50.6/75.4 MB 3.5 MB/s eta 0:00:08\n",
      "     -------------------------- ------------- 50.9/75.4 MB 3.4 MB/s eta 0:00:08\n",
      "     --------------------------- ------------ 51.4/75.4 MB 3.4 MB/s eta 0:00:08\n",
      "     --------------------------- ------------ 51.9/75.4 MB 3.4 MB/s eta 0:00:07\n",
      "     --------------------------- ------------ 52.4/75.4 MB 3.4 MB/s eta 0:00:07\n",
      "     --------------------------- ------------ 52.7/75.4 MB 3.4 MB/s eta 0:00:07\n",
      "     ---------------------------- ----------- 53.2/75.4 MB 3.3 MB/s eta 0:00:07\n",
      "     ---------------------------- ----------- 53.7/75.4 MB 3.3 MB/s eta 0:00:07\n",
      "     ---------------------------- ----------- 54.5/75.4 MB 3.3 MB/s eta 0:00:07\n",
      "     ----------------------------- ---------- 55.1/75.4 MB 3.3 MB/s eta 0:00:07\n",
      "     ----------------------------- ---------- 55.6/75.4 MB 3.3 MB/s eta 0:00:06\n",
      "     ----------------------------- ---------- 56.1/75.4 MB 3.3 MB/s eta 0:00:06\n",
      "     ------------------------------ --------- 56.9/75.4 MB 3.3 MB/s eta 0:00:06\n",
      "     ------------------------------ --------- 57.1/75.4 MB 3.3 MB/s eta 0:00:06\n",
      "     ------------------------------ --------- 57.7/75.4 MB 3.3 MB/s eta 0:00:06\n",
      "     ------------------------------ --------- 58.2/75.4 MB 3.3 MB/s eta 0:00:06\n",
      "     ------------------------------- -------- 58.7/75.4 MB 3.3 MB/s eta 0:00:06\n",
      "     ------------------------------- -------- 59.2/75.4 MB 3.2 MB/s eta 0:00:05\n",
      "     ------------------------------- -------- 59.8/75.4 MB 3.2 MB/s eta 0:00:05\n",
      "     ------------------------------- -------- 60.0/75.4 MB 3.2 MB/s eta 0:00:05\n",
      "     -------------------------------- ------- 60.8/75.4 MB 3.2 MB/s eta 0:00:05\n",
      "     -------------------------------- ------- 61.6/75.4 MB 3.2 MB/s eta 0:00:05\n",
      "     -------------------------------- ------- 62.1/75.4 MB 3.2 MB/s eta 0:00:05\n",
      "     --------------------------------- ------ 62.7/75.4 MB 3.2 MB/s eta 0:00:04\n",
      "     --------------------------------- ------ 63.2/75.4 MB 3.2 MB/s eta 0:00:04\n",
      "     --------------------------------- ------ 63.7/75.4 MB 3.2 MB/s eta 0:00:04\n",
      "     ---------------------------------- ----- 64.2/75.4 MB 3.2 MB/s eta 0:00:04\n",
      "     ---------------------------------- ----- 64.7/75.4 MB 3.2 MB/s eta 0:00:04\n",
      "     ---------------------------------- ----- 65.3/75.4 MB 3.2 MB/s eta 0:00:04\n",
      "     ----------------------------------- ---- 66.1/75.4 MB 3.2 MB/s eta 0:00:03\n",
      "     ----------------------------------- ---- 66.6/75.4 MB 3.2 MB/s eta 0:00:03\n",
      "     ----------------------------------- ---- 67.4/75.4 MB 3.2 MB/s eta 0:00:03\n",
      "     ------------------------------------ --- 67.9/75.4 MB 3.2 MB/s eta 0:00:03\n",
      "     ------------------------------------ --- 68.7/75.4 MB 3.2 MB/s eta 0:00:03\n",
      "     ------------------------------------ --- 69.2/75.4 MB 3.2 MB/s eta 0:00:02\n",
      "     ------------------------------------- -- 70.3/75.4 MB 3.2 MB/s eta 0:00:02\n",
      "     ------------------------------------- -- 71.0/75.4 MB 3.2 MB/s eta 0:00:02\n",
      "     -------------------------------------- - 72.1/75.4 MB 3.2 MB/s eta 0:00:02\n",
      "     -------------------------------------- - 72.9/75.4 MB 3.2 MB/s eta 0:00:01\n",
      "     ---------------------------------------  73.7/75.4 MB 3.2 MB/s eta 0:00:01\n",
      "     ---------------------------------------  74.4/75.4 MB 3.2 MB/s eta 0:00:01\n",
      "     ---------------------------------------  75.2/75.4 MB 3.2 MB/s eta 0:00:01\n",
      "     ---------------------------------------  75.2/75.4 MB 3.2 MB/s eta 0:00:01\n",
      "     ---------------------------------------- 75.4/75.4 MB 3.2 MB/s eta 0:00:00\n",
      "Requirement already satisfied: filelock in d:\\conda\\envs\\accelerate\\lib\\site-packages (from transformers) (3.13.1)\n",
      "Requirement already satisfied: huggingface-hub<1.0,>=0.30.0 in d:\\conda\\envs\\accelerate\\lib\\site-packages (from transformers) (0.30.2)\n",
      "Requirement already satisfied: numpy>=1.17 in d:\\conda\\envs\\accelerate\\lib\\site-packages (from transformers) (2.1.2)\n",
      "Requirement already satisfied: packaging>=20.0 in c:\\users\\windows\\appdata\\roaming\\python\\python310\\site-packages (from transformers) (23.2)\n",
      "Requirement already satisfied: pyyaml>=5.1 in d:\\conda\\envs\\accelerate\\lib\\site-packages (from transformers) (6.0.2)\n",
      "Requirement already satisfied: regex!=2019.12.17 in d:\\conda\\envs\\accelerate\\lib\\site-packages (from transformers) (2024.11.6)\n",
      "Requirement already satisfied: requests in d:\\conda\\envs\\accelerate\\lib\\site-packages (from transformers) (2.32.3)\n",
      "Requirement already satisfied: tokenizers<0.22,>=0.21 in d:\\conda\\envs\\accelerate\\lib\\site-packages (from transformers) (0.21.1)\n",
      "Requirement already satisfied: safetensors>=0.4.3 in d:\\conda\\envs\\accelerate\\lib\\site-packages (from transformers) (0.5.3)\n",
      "Requirement already satisfied: tqdm>=4.27 in d:\\conda\\envs\\accelerate\\lib\\site-packages (from transformers) (4.67.1)\n",
      "Collecting pyarrow>=15.0.0 (from datasets)\n",
      "  Downloading https://pypi.tuna.tsinghua.edu.cn/packages/54/e3/d5cfd7654084e6c0d9c3ce949e5d9e0ccad569ae1e2d5a68a3ec03b2be89/pyarrow-19.0.1-cp310-cp310-win_amd64.whl (25.3 MB)\n",
      "     ---------------------------------------- 0.0/25.3 MB ? eta -:--:--\n",
      "      --------------------------------------- 0.5/25.3 MB 2.8 MB/s eta 0:00:09\n",
      "     -- ------------------------------------- 1.3/25.3 MB 3.2 MB/s eta 0:00:08\n",
      "     -- ------------------------------------- 1.8/25.3 MB 3.2 MB/s eta 0:00:08\n",
      "     ---- ----------------------------------- 2.6/25.3 MB 3.3 MB/s eta 0:00:07\n",
      "     ----- ---------------------------------- 3.4/25.3 MB 3.4 MB/s eta 0:00:07\n",
      "     ------- -------------------------------- 4.5/25.3 MB 3.5 MB/s eta 0:00:06\n",
      "     -------- ------------------------------- 5.2/25.3 MB 3.5 MB/s eta 0:00:06\n",
      "     --------- ------------------------------ 5.8/25.3 MB 3.5 MB/s eta 0:00:06\n",
      "     ---------- ----------------------------- 6.6/25.3 MB 3.5 MB/s eta 0:00:06\n",
      "     ----------- ---------------------------- 7.3/25.3 MB 3.5 MB/s eta 0:00:06\n",
      "     ------------ --------------------------- 7.9/25.3 MB 3.4 MB/s eta 0:00:06\n",
      "     ------------- -------------------------- 8.4/25.3 MB 3.4 MB/s eta 0:00:05\n",
      "     -------------- ------------------------- 9.2/25.3 MB 3.4 MB/s eta 0:00:05\n",
      "     --------------- ------------------------ 10.0/25.3 MB 3.4 MB/s eta 0:00:05\n",
      "     ----------------- ---------------------- 10.7/25.3 MB 3.4 MB/s eta 0:00:05\n",
      "     ------------------ --------------------- 11.5/25.3 MB 3.4 MB/s eta 0:00:05\n",
      "     ------------------- -------------------- 12.3/25.3 MB 3.4 MB/s eta 0:00:04\n",
      "     -------------------- ------------------- 13.1/25.3 MB 3.4 MB/s eta 0:00:04\n",
      "     --------------------- ------------------ 13.9/25.3 MB 3.4 MB/s eta 0:00:04\n",
      "     ----------------------- ---------------- 14.7/25.3 MB 3.4 MB/s eta 0:00:04\n",
      "     ------------------------ --------------- 15.7/25.3 MB 3.5 MB/s eta 0:00:03\n",
      "     -------------------------- ------------- 16.8/25.3 MB 3.6 MB/s eta 0:00:03\n",
      "     --------------------------- ------------ 17.6/25.3 MB 3.6 MB/s eta 0:00:03\n",
      "     ---------------------------- ----------- 17.8/25.3 MB 3.6 MB/s eta 0:00:03\n",
      "     ----------------------------- ---------- 18.4/25.3 MB 3.5 MB/s eta 0:00:02\n",
      "     ------------------------------ --------- 19.4/25.3 MB 3.5 MB/s eta 0:00:02\n",
      "     ------------------------------- -------- 20.2/25.3 MB 3.5 MB/s eta 0:00:02\n",
      "     --------------------------------- ------ 21.0/25.3 MB 3.5 MB/s eta 0:00:02\n",
      "     ---------------------------------- ----- 21.8/25.3 MB 3.5 MB/s eta 0:00:02\n",
      "     ----------------------------------- ---- 22.5/25.3 MB 3.5 MB/s eta 0:00:01\n",
      "     ------------------------------------- -- 23.6/25.3 MB 3.5 MB/s eta 0:00:01\n",
      "     -------------------------------------- - 24.4/25.3 MB 3.6 MB/s eta 0:00:01\n",
      "     ---------------------------------------  25.2/25.3 MB 3.6 MB/s eta 0:00:01\n",
      "     ---------------------------------------- 25.3/25.3 MB 3.5 MB/s eta 0:00:00\n",
      "Collecting dill<0.3.9,>=0.3.0 (from datasets)\n",
      "  Downloading https://pypi.tuna.tsinghua.edu.cn/packages/c9/7a/cef76fd8438a42f96db64ddaa85280485a9c395e7df3db8158cfec1eee34/dill-0.3.8-py3-none-any.whl (116 kB)\n",
      "Requirement already satisfied: pandas in d:\\conda\\envs\\accelerate\\lib\\site-packages (from datasets) (2.2.3)\n",
      "Collecting xxhash (from datasets)\n",
      "  Downloading https://pypi.tuna.tsinghua.edu.cn/packages/7b/d7/aa0b22c4ebb7c3ccb993d4c565132abc641cd11164f8952d89eb6a501909/xxhash-3.5.0-cp310-cp310-win_amd64.whl (30 kB)\n",
      "Collecting multiprocess<0.70.17 (from datasets)\n",
      "  Downloading https://pypi.tuna.tsinghua.edu.cn/packages/bc/f7/7ec7fddc92e50714ea3745631f79bd9c96424cb2702632521028e57d3a36/multiprocess-0.70.16-py310-none-any.whl (134 kB)\n",
      "Requirement already satisfied: fsspec<=2024.12.0,>=2023.1.0 in d:\\conda\\envs\\accelerate\\lib\\site-packages (from fsspec[http]<=2024.12.0,>=2023.1.0->datasets) (2024.6.1)\n",
      "Collecting aiohttp (from datasets)\n",
      "  Downloading https://pypi.tuna.tsinghua.edu.cn/packages/df/ad/a64db1c18063569d6dff474c46a7d4de7ab85ff55e2a35839b149b1850ea/aiohttp-3.11.16-cp310-cp310-win_amd64.whl (442 kB)\n",
      "Requirement already satisfied: psutil in c:\\users\\windows\\appdata\\roaming\\python\\python310\\site-packages (from accelerate) (5.9.7)\n",
      "Requirement already satisfied: torch>=2.0.0 in d:\\conda\\envs\\accelerate\\lib\\site-packages (from accelerate) (2.5.1+cu121)\n",
      "Collecting rich (from trl)\n",
      "  Downloading https://pypi.tuna.tsinghua.edu.cn/packages/0d/9b/63f4c7ebc259242c89b3acafdb37b41d1185c07ff0011164674e9076b491/rich-14.0.0-py3-none-any.whl (243 kB)\n",
      "Collecting aiohappyeyeballs>=2.3.0 (from aiohttp->datasets)\n",
      "  Downloading https://pypi.tuna.tsinghua.edu.cn/packages/0f/15/5bf3b99495fb160b63f95972b81750f18f7f4e02ad051373b669d17d44f2/aiohappyeyeballs-2.6.1-py3-none-any.whl (15 kB)\n",
      "Collecting aiosignal>=1.1.2 (from aiohttp->datasets)\n",
      "  Downloading https://pypi.tuna.tsinghua.edu.cn/packages/ec/6a/bc7e17a3e87a2985d3e8f4da4cd0f481060eb78fb08596c42be62c90a4d9/aiosignal-1.3.2-py2.py3-none-any.whl (7.6 kB)\n",
      "Collecting async-timeout<6.0,>=4.0 (from aiohttp->datasets)\n",
      "  Downloading https://pypi.tuna.tsinghua.edu.cn/packages/fe/ba/e2081de779ca30d473f21f5b30e0e737c438205440784c7dfc81efc2b029/async_timeout-5.0.1-py3-none-any.whl (6.2 kB)\n",
      "Collecting attrs>=17.3.0 (from aiohttp->datasets)\n",
      "  Downloading https://pypi.tuna.tsinghua.edu.cn/packages/77/06/bb80f5f86020c4551da315d78b3ab75e8228f89f0162f2c3a819e407941a/attrs-25.3.0-py3-none-any.whl (63 kB)\n",
      "Collecting frozenlist>=1.1.1 (from aiohttp->datasets)\n",
      "  Downloading https://pypi.tuna.tsinghua.edu.cn/packages/28/2f/cc27d5f43e023d21fe5c19538e08894db3d7e081cbf582ad5ed366c24446/frozenlist-1.5.0-cp310-cp310-win_amd64.whl (51 kB)\n",
      "Collecting multidict<7.0,>=4.5 (from aiohttp->datasets)\n",
      "  Downloading https://pypi.tuna.tsinghua.edu.cn/packages/d9/ca/8888f99892513001fa900eef11bafbf38ff3485109510487de009da85748/multidict-6.4.3-cp310-cp310-win_amd64.whl (38 kB)\n",
      "Collecting propcache>=0.2.0 (from aiohttp->datasets)\n",
      "  Downloading https://pypi.tuna.tsinghua.edu.cn/packages/31/0a/49ff7e5056c17dfba62cbdcbb90a29daffd199c52f8e65e5cb09d5f53a57/propcache-0.3.1-cp310-cp310-win_amd64.whl (45 kB)\n",
      "Collecting yarl<2.0,>=1.17.0 (from aiohttp->datasets)\n",
      "  Downloading https://pypi.tuna.tsinghua.edu.cn/packages/59/00/39bc8da1f67614633a099a44a5f69d056bb4d65a8e52a4003460e3fa4cc7/yarl-1.19.0-cp310-cp310-win_amd64.whl (92 kB)\n",
      "Requirement already satisfied: typing-extensions>=3.7.4.3 in d:\\conda\\envs\\accelerate\\lib\\site-packages (from huggingface-hub<1.0,>=0.30.0->transformers) (4.12.2)\n",
      "Requirement already satisfied: charset-normalizer<4,>=2 in d:\\conda\\envs\\accelerate\\lib\\site-packages (from requests->transformers) (3.4.1)\n",
      "Requirement already satisfied: idna<4,>=2.5 in d:\\conda\\envs\\accelerate\\lib\\site-packages (from requests->transformers) (3.10)\n",
      "Requirement already satisfied: urllib3<3,>=1.21.1 in d:\\conda\\envs\\accelerate\\lib\\site-packages (from requests->transformers) (2.4.0)\n",
      "Requirement already satisfied: certifi>=2017.4.17 in d:\\conda\\envs\\accelerate\\lib\\site-packages (from requests->transformers) (2025.1.31)\n",
      "Requirement already satisfied: networkx in d:\\conda\\envs\\accelerate\\lib\\site-packages (from torch>=2.0.0->accelerate) (3.3)\n",
      "Requirement already satisfied: jinja2 in d:\\conda\\envs\\accelerate\\lib\\site-packages (from torch>=2.0.0->accelerate) (3.1.4)\n",
      "Requirement already satisfied: sympy==1.13.1 in d:\\conda\\envs\\accelerate\\lib\\site-packages (from torch>=2.0.0->accelerate) (1.13.1)\n",
      "Requirement already satisfied: mpmath<1.4,>=1.1.0 in d:\\conda\\envs\\accelerate\\lib\\site-packages (from sympy==1.13.1->torch>=2.0.0->accelerate) (1.3.0)\n",
      "Requirement already satisfied: colorama in c:\\users\\windows\\appdata\\roaming\\python\\python310\\site-packages (from tqdm>=4.27->transformers) (0.4.6)\n",
      "Requirement already satisfied: python-dateutil>=2.8.2 in c:\\users\\windows\\appdata\\roaming\\python\\python310\\site-packages (from pandas->datasets) (2.8.2)\n",
      "Requirement already satisfied: pytz>=2020.1 in d:\\conda\\envs\\accelerate\\lib\\site-packages (from pandas->datasets) (2025.2)\n",
      "Requirement already satisfied: tzdata>=2022.7 in d:\\conda\\envs\\accelerate\\lib\\site-packages (from pandas->datasets) (2025.2)\n",
      "Collecting markdown-it-py>=2.2.0 (from rich->trl)\n",
      "  Downloading https://pypi.tuna.tsinghua.edu.cn/packages/42/d7/1ec15b46af6af88f19b8e5ffea08fa375d433c998b8a7639e76935c14f1f/markdown_it_py-3.0.0-py3-none-any.whl (87 kB)\n",
      "Requirement already satisfied: pygments<3.0.0,>=2.13.0 in c:\\users\\windows\\appdata\\roaming\\python\\python310\\site-packages (from rich->trl) (2.17.2)\n",
      "Collecting mdurl~=0.1 (from markdown-it-py>=2.2.0->rich->trl)\n",
      "  Downloading https://pypi.tuna.tsinghua.edu.cn/packages/b3/38/89ba8ad64ae25be8de66a6d463314cf1eb366222074cfda9ee839c56a4b4/mdurl-0.1.2-py3-none-any.whl (10.0 kB)\n",
      "Requirement already satisfied: six>=1.5 in c:\\users\\windows\\appdata\\roaming\\python\\python310\\site-packages (from python-dateutil>=2.8.2->pandas->datasets) (1.16.0)\n",
      "Requirement already satisfied: MarkupSafe>=2.0 in d:\\conda\\envs\\accelerate\\lib\\site-packages (from jinja2->torch>=2.0.0->accelerate) (2.1.5)\n",
      "Installing collected packages: xxhash, pyarrow, propcache, multidict, mdurl, frozenlist, dill, attrs, async-timeout, aiohappyeyeballs, yarl, multiprocess, markdown-it-py, aiosignal, rich, bitsandbytes, aiohttp, accelerate, peft, datasets, trl, evaluate\n",
      "Successfully installed accelerate-1.6.0 aiohappyeyeballs-2.6.1 aiohttp-3.11.16 aiosignal-1.3.2 async-timeout-5.0.1 attrs-25.3.0 bitsandbytes-0.45.5 datasets-3.5.0 dill-0.3.8 evaluate-0.4.3 frozenlist-1.5.0 markdown-it-py-3.0.0 mdurl-0.1.2 multidict-6.4.3 multiprocess-0.70.16 peft-0.15.2 propcache-0.3.1 pyarrow-19.0.1 rich-14.0.0 trl-0.16.1 xxhash-3.5.0 yarl-1.19.0\n",
      "Looking in indexes: https://pypi.tuna.tsinghua.edu.cn/simple\n",
      "Collecting nvidia-ml-py3\n",
      "  Downloading https://pypi.tuna.tsinghua.edu.cn/packages/6d/64/cce82bddb80c0b0f5c703bbdafa94bfb69a1c5ad7a79cff00b482468f0d3/nvidia-ml-py3-7.352.0.tar.gz (19 kB)\n",
      "  Preparing metadata (setup.py): started\n",
      "  Preparing metadata (setup.py): finished with status 'done'\n",
      "Building wheels for collected packages: nvidia-ml-py3\n",
      "  Building wheel for nvidia-ml-py3 (setup.py): started\n",
      "  Building wheel for nvidia-ml-py3 (setup.py): finished with status 'done'\n",
      "  Created wheel for nvidia-ml-py3: filename=nvidia_ml_py3-7.352.0-py3-none-any.whl size=19219 sha256=ab84b94bdb646610bc20954631c60b7dea6525a167654400ace19643aec7a399\n",
      "  Stored in directory: c:\\users\\windows\\appdata\\local\\pip\\cache\\wheels\\e8\\d2\\e2\\f9eb0b64377de2d491d1102b354ae87999763047b4d5a821ae\n",
      "Successfully built nvidia-ml-py3\n",
      "Installing collected packages: nvidia-ml-py3\n",
      "Successfully installed nvidia-ml-py3-7.352.0\n"
     ]
    }
   ],
   "source": [
    "!pip install transformers datasets evaluate accelerate peft trl bitsandbytes\n",
    "!pip install nvidia-ml-py3"
   ]
  },
  {
   "cell_type": "code",
   "execution_count": 1,
   "id": "cca64f38-d8d2-4313-8295-fbbd43c2a263",
   "metadata": {
    "id": "cca64f38-d8d2-4313-8295-fbbd43c2a263"
   },
   "outputs": [
    {
     "name": "stderr",
     "output_type": "stream",
     "text": [
      "d:\\conda\\envs\\accelerate\\lib\\site-packages\\tqdm\\auto.py:21: TqdmWarning: IProgress not found. Please update jupyter and ipywidgets. See https://ipywidgets.readthedocs.io/en/stable/user_install.html\n",
      "  from .autonotebook import tqdm as notebook_tqdm\n"
     ]
    }
   ],
   "source": [
    "import os\n",
    "import pandas as pd\n",
    "import torch\n",
    "from transformers import RobertaModel, RobertaTokenizer, TrainingArguments, Trainer, DataCollatorWithPadding, RobertaForSequenceClassification\n",
    "from peft import LoraConfig, get_peft_model, PeftModel\n",
    "from datasets import load_dataset, Dataset, ClassLabel\n",
    "import pickle\n"
   ]
  },
  {
   "cell_type": "markdown",
   "id": "59d6e377",
   "metadata": {
    "id": "59d6e377"
   },
   "source": [
    "## Load Tokenizer and Preprocess Data"
   ]
  },
  {
   "cell_type": "code",
   "execution_count": 2,
   "id": "21f42747-f551-40a5-a95f-7affb1eba4a3",
   "metadata": {
    "id": "21f42747-f551-40a5-a95f-7affb1eba4a3"
   },
   "outputs": [],
   "source": [
    "base_model = 'roberta-base'\n",
    "\n",
    "dataset = load_dataset('ag_news', split='train')\n",
    "tokenizer = RobertaTokenizer.from_pretrained(base_model)\n",
    "\n",
    "def preprocess(examples):\n",
    "    tokenized = tokenizer(examples['text'], truncation=True, padding=True)\n",
    "    return tokenized\n",
    "\n",
    "tokenized_dataset = dataset.map(preprocess, batched=True,  remove_columns=[\"text\"])\n",
    "tokenized_dataset = tokenized_dataset.rename_column(\"label\", \"labels\")"
   ]
  },
  {
   "cell_type": "code",
   "execution_count": 28,
   "id": "dbf53bfe",
   "metadata": {},
   "outputs": [
    {
     "name": "stdout",
     "output_type": "stream",
     "text": [
      "Train dataset size: 119360\n",
      "Test dataset size: 640\n",
      "Unlabelled dataset size: 8000\n"
     ]
    }
   ],
   "source": [
    "print(f\"Train dataset size: {len(train_dataset)}\")\n",
    "print(f\"Test dataset size: {len(eval_dataset)}\")\n",
    "print(f\"Unlabelled dataset size: {len(unlabelled_dataset)}\")"
   ]
  },
  {
   "cell_type": "code",
   "execution_count": 3,
   "id": "9e07f641-bec0-43a6-8c26-510d7642916a",
   "metadata": {
    "id": "9e07f641-bec0-43a6-8c26-510d7642916a"
   },
   "outputs": [
    {
     "name": "stdout",
     "output_type": "stream",
     "text": [
      "number of labels: 4\n",
      "the labels: ['World', 'Sports', 'Business', 'Sci/Tech']\n"
     ]
    }
   ],
   "source": [
    "# Extract the number of classess and their names\n",
    "num_labels = dataset.features['label'].num_classes\n",
    "class_names = dataset.features[\"label\"].names\n",
    "print(f\"number of labels: {num_labels}\")\n",
    "print(f\"the labels: {class_names}\")\n",
    "\n",
    "# Create an id2label mapping\n",
    "# We will need this for our classifier.\n",
    "id2label = {i: label for i, label in enumerate(class_names)}\n",
    "\n",
    "data_collator = DataCollatorWithPadding(tokenizer=tokenizer, return_tensors=\"pt\")\n"
   ]
  },
  {
   "cell_type": "markdown",
   "id": "c9e24afd",
   "metadata": {
    "id": "c9e24afd"
   },
   "source": [
    "#Load Pre-trained Model\n",
    "Set up config for pretrained model and download it from hugging face"
   ]
  },
  {
   "cell_type": "code",
   "execution_count": 4,
   "id": "262a8416-a59c-4ea1-95d9-0b1f81d6094c",
   "metadata": {
    "id": "262a8416-a59c-4ea1-95d9-0b1f81d6094c"
   },
   "outputs": [
    {
     "name": "stderr",
     "output_type": "stream",
     "text": [
      "Some weights of RobertaForSequenceClassification were not initialized from the model checkpoint at roberta-base and are newly initialized: ['classifier.dense.bias', 'classifier.dense.weight', 'classifier.out_proj.bias', 'classifier.out_proj.weight']\n",
      "You should probably TRAIN this model on a down-stream task to be able to use it for predictions and inference.\n"
     ]
    },
    {
     "data": {
      "text/plain": [
       "RobertaForSequenceClassification(\n",
       "  (roberta): RobertaModel(\n",
       "    (embeddings): RobertaEmbeddings(\n",
       "      (word_embeddings): Embedding(50265, 768, padding_idx=1)\n",
       "      (position_embeddings): Embedding(514, 768, padding_idx=1)\n",
       "      (token_type_embeddings): Embedding(1, 768)\n",
       "      (LayerNorm): LayerNorm((768,), eps=1e-05, elementwise_affine=True)\n",
       "      (dropout): Dropout(p=0.1, inplace=False)\n",
       "    )\n",
       "    (encoder): RobertaEncoder(\n",
       "      (layer): ModuleList(\n",
       "        (0-11): 12 x RobertaLayer(\n",
       "          (attention): RobertaAttention(\n",
       "            (self): RobertaSdpaSelfAttention(\n",
       "              (query): Linear(in_features=768, out_features=768, bias=True)\n",
       "              (key): Linear(in_features=768, out_features=768, bias=True)\n",
       "              (value): Linear(in_features=768, out_features=768, bias=True)\n",
       "              (dropout): Dropout(p=0.1, inplace=False)\n",
       "            )\n",
       "            (output): RobertaSelfOutput(\n",
       "              (dense): Linear(in_features=768, out_features=768, bias=True)\n",
       "              (LayerNorm): LayerNorm((768,), eps=1e-05, elementwise_affine=True)\n",
       "              (dropout): Dropout(p=0.1, inplace=False)\n",
       "            )\n",
       "          )\n",
       "          (intermediate): RobertaIntermediate(\n",
       "            (dense): Linear(in_features=768, out_features=3072, bias=True)\n",
       "            (intermediate_act_fn): GELUActivation()\n",
       "          )\n",
       "          (output): RobertaOutput(\n",
       "            (dense): Linear(in_features=3072, out_features=768, bias=True)\n",
       "            (LayerNorm): LayerNorm((768,), eps=1e-05, elementwise_affine=True)\n",
       "            (dropout): Dropout(p=0.1, inplace=False)\n",
       "          )\n",
       "        )\n",
       "      )\n",
       "    )\n",
       "  )\n",
       "  (classifier): RobertaClassificationHead(\n",
       "    (dense): Linear(in_features=768, out_features=768, bias=True)\n",
       "    (dropout): Dropout(p=0.1, inplace=False)\n",
       "    (out_proj): Linear(in_features=768, out_features=4, bias=True)\n",
       "  )\n",
       ")"
      ]
     },
     "execution_count": 4,
     "metadata": {},
     "output_type": "execute_result"
    }
   ],
   "source": [
    "model = RobertaForSequenceClassification.from_pretrained(\n",
    "    base_model,\n",
    "    id2label=id2label)\n",
    "model"
   ]
  },
  {
   "cell_type": "markdown",
   "id": "f265839d-a088-4693-8474-862641de11ed",
   "metadata": {
    "id": "f265839d-a088-4693-8474-862641de11ed"
   },
   "source": [
    "#Anything from here on can be modified"
   ]
  },
  {
   "cell_type": "code",
   "execution_count": 5,
   "id": "e7413430-be57-482b-856e-36bd4ba799df",
   "metadata": {
    "id": "e7413430-be57-482b-856e-36bd4ba799df"
   },
   "outputs": [],
   "source": [
    "# Split the original training set\n",
    "split_datasets = tokenized_dataset.train_test_split(test_size=640, seed=42)\n",
    "train_dataset = split_datasets['train']\n",
    "eval_dataset = split_datasets['test']"
   ]
  },
  {
   "cell_type": "markdown",
   "id": "652452e3",
   "metadata": {
    "id": "652452e3"
   },
   "source": [
    "#Setup LoRA Config\n",
    "Setup PEFT config and get peft model for finetuning"
   ]
  },
  {
   "cell_type": "code",
   "execution_count": 14,
   "id": "bd0ca0ea-86b8-47f7-8cbf-83da25685876",
   "metadata": {
    "id": "bd0ca0ea-86b8-47f7-8cbf-83da25685876"
   },
   "outputs": [],
   "source": [
    "# Setup PEFT config and get PEFT model for fine-tuning\n",
    "\n",
    "# PEFT Config\n",
    "peft_config = LoraConfig(\n",
    "    r=7,  # Reduce rank to decrease parameters\n",
    "    lora_alpha=16,  # Keep a high alpha value\n",
    "    lora_dropout=0.1,  # Keep dropout unchanged\n",
    "    bias='none',\n",
    "    # Reduce target modules\n",
    "    target_modules=['query', 'key', 'value'],\n",
    "    task_type=\"SEQ_CLS\",\n",
    "    # Add module saving for training the classifier head\n",
    "    modules_to_save=[\"classifier\"],\n",
    ")\n"
   ]
  },
  {
   "cell_type": "code",
   "execution_count": 15,
   "id": "6ec2739d-76b6-4fde-91c2-0fc49e1884b0",
   "metadata": {
    "id": "6ec2739d-76b6-4fde-91c2-0fc49e1884b0"
   },
   "outputs": [
    {
     "data": {
      "text/plain": [
       "PeftModelForSequenceClassification(\n",
       "  (base_model): LoraModel(\n",
       "    (model): RobertaForSequenceClassification(\n",
       "      (roberta): RobertaModel(\n",
       "        (embeddings): RobertaEmbeddings(\n",
       "          (word_embeddings): Embedding(50265, 768, padding_idx=1)\n",
       "          (position_embeddings): Embedding(514, 768, padding_idx=1)\n",
       "          (token_type_embeddings): Embedding(1, 768)\n",
       "          (LayerNorm): LayerNorm((768,), eps=1e-05, elementwise_affine=True)\n",
       "          (dropout): Dropout(p=0.1, inplace=False)\n",
       "        )\n",
       "        (encoder): RobertaEncoder(\n",
       "          (layer): ModuleList(\n",
       "            (0-11): 12 x RobertaLayer(\n",
       "              (attention): RobertaAttention(\n",
       "                (self): RobertaSdpaSelfAttention(\n",
       "                  (query): lora.Linear(\n",
       "                    (base_layer): Linear(in_features=768, out_features=768, bias=True)\n",
       "                    (lora_dropout): ModuleDict(\n",
       "                      (default): Dropout(p=0.1, inplace=False)\n",
       "                    )\n",
       "                    (lora_A): ModuleDict(\n",
       "                      (default): Linear(in_features=768, out_features=7, bias=False)\n",
       "                    )\n",
       "                    (lora_B): ModuleDict(\n",
       "                      (default): Linear(in_features=7, out_features=768, bias=False)\n",
       "                    )\n",
       "                    (lora_embedding_A): ParameterDict()\n",
       "                    (lora_embedding_B): ParameterDict()\n",
       "                    (lora_magnitude_vector): ModuleDict()\n",
       "                  )\n",
       "                  (key): lora.Linear(\n",
       "                    (base_layer): Linear(in_features=768, out_features=768, bias=True)\n",
       "                    (lora_dropout): ModuleDict(\n",
       "                      (default): Dropout(p=0.1, inplace=False)\n",
       "                    )\n",
       "                    (lora_A): ModuleDict(\n",
       "                      (default): Linear(in_features=768, out_features=7, bias=False)\n",
       "                    )\n",
       "                    (lora_B): ModuleDict(\n",
       "                      (default): Linear(in_features=7, out_features=768, bias=False)\n",
       "                    )\n",
       "                    (lora_embedding_A): ParameterDict()\n",
       "                    (lora_embedding_B): ParameterDict()\n",
       "                    (lora_magnitude_vector): ModuleDict()\n",
       "                  )\n",
       "                  (value): lora.Linear(\n",
       "                    (base_layer): Linear(in_features=768, out_features=768, bias=True)\n",
       "                    (lora_dropout): ModuleDict(\n",
       "                      (default): Dropout(p=0.1, inplace=False)\n",
       "                    )\n",
       "                    (lora_A): ModuleDict(\n",
       "                      (default): Linear(in_features=768, out_features=7, bias=False)\n",
       "                    )\n",
       "                    (lora_B): ModuleDict(\n",
       "                      (default): Linear(in_features=7, out_features=768, bias=False)\n",
       "                    )\n",
       "                    (lora_embedding_A): ParameterDict()\n",
       "                    (lora_embedding_B): ParameterDict()\n",
       "                    (lora_magnitude_vector): ModuleDict()\n",
       "                  )\n",
       "                  (dropout): Dropout(p=0.1, inplace=False)\n",
       "                )\n",
       "                (output): RobertaSelfOutput(\n",
       "                  (dense): Linear(in_features=768, out_features=768, bias=True)\n",
       "                  (LayerNorm): LayerNorm((768,), eps=1e-05, elementwise_affine=True)\n",
       "                  (dropout): Dropout(p=0.1, inplace=False)\n",
       "                )\n",
       "              )\n",
       "              (intermediate): RobertaIntermediate(\n",
       "                (dense): Linear(in_features=768, out_features=3072, bias=True)\n",
       "                (intermediate_act_fn): GELUActivation()\n",
       "              )\n",
       "              (output): RobertaOutput(\n",
       "                (dense): Linear(in_features=3072, out_features=768, bias=True)\n",
       "                (LayerNorm): LayerNorm((768,), eps=1e-05, elementwise_affine=True)\n",
       "                (dropout): Dropout(p=0.1, inplace=False)\n",
       "              )\n",
       "            )\n",
       "          )\n",
       "        )\n",
       "      )\n",
       "      (classifier): ModulesToSaveWrapper(\n",
       "        (original_module): RobertaClassificationHead(\n",
       "          (dense): Linear(in_features=768, out_features=768, bias=True)\n",
       "          (dropout): Dropout(p=0.1, inplace=False)\n",
       "          (out_proj): Linear(in_features=768, out_features=4, bias=True)\n",
       "        )\n",
       "        (modules_to_save): ModuleDict(\n",
       "          (default): RobertaClassificationHead(\n",
       "            (dense): Linear(in_features=768, out_features=768, bias=True)\n",
       "            (dropout): Dropout(p=0.1, inplace=False)\n",
       "            (out_proj): Linear(in_features=768, out_features=4, bias=True)\n",
       "          )\n",
       "        )\n",
       "      )\n",
       "    )\n",
       "  )\n",
       ")"
      ]
     },
     "execution_count": 15,
     "metadata": {},
     "output_type": "execute_result"
    }
   ],
   "source": [
    "peft_model = get_peft_model(model, peft_config)\n",
    "peft_model"
   ]
  },
  {
   "cell_type": "code",
   "execution_count": 16,
   "id": "a769f54e-05ad-4e3c-aae8-d00d1d9dfb2f",
   "metadata": {
    "id": "a769f54e-05ad-4e3c-aae8-d00d1d9dfb2f"
   },
   "outputs": [
    {
     "name": "stdout",
     "output_type": "stream",
     "text": [
      "Trainable parameters:\n",
      "base_model.model.roberta.encoder.layer.0.attention.self.query.lora_A.default.weight\n",
      "base_model.model.roberta.encoder.layer.0.attention.self.query.lora_B.default.weight\n",
      "base_model.model.roberta.encoder.layer.0.attention.self.key.lora_A.default.weight\n",
      "base_model.model.roberta.encoder.layer.0.attention.self.key.lora_B.default.weight\n",
      "base_model.model.roberta.encoder.layer.0.attention.self.value.lora_A.default.weight\n",
      "base_model.model.roberta.encoder.layer.0.attention.self.value.lora_B.default.weight\n",
      "base_model.model.roberta.encoder.layer.1.attention.self.query.lora_A.default.weight\n",
      "base_model.model.roberta.encoder.layer.1.attention.self.query.lora_B.default.weight\n",
      "base_model.model.roberta.encoder.layer.1.attention.self.key.lora_A.default.weight\n",
      "base_model.model.roberta.encoder.layer.1.attention.self.key.lora_B.default.weight\n",
      "base_model.model.roberta.encoder.layer.1.attention.self.value.lora_A.default.weight\n",
      "base_model.model.roberta.encoder.layer.1.attention.self.value.lora_B.default.weight\n",
      "base_model.model.roberta.encoder.layer.2.attention.self.query.lora_A.default.weight\n",
      "base_model.model.roberta.encoder.layer.2.attention.self.query.lora_B.default.weight\n",
      "base_model.model.roberta.encoder.layer.2.attention.self.key.lora_A.default.weight\n",
      "base_model.model.roberta.encoder.layer.2.attention.self.key.lora_B.default.weight\n",
      "base_model.model.roberta.encoder.layer.2.attention.self.value.lora_A.default.weight\n",
      "base_model.model.roberta.encoder.layer.2.attention.self.value.lora_B.default.weight\n",
      "base_model.model.roberta.encoder.layer.3.attention.self.query.lora_A.default.weight\n",
      "base_model.model.roberta.encoder.layer.3.attention.self.query.lora_B.default.weight\n",
      "base_model.model.roberta.encoder.layer.3.attention.self.key.lora_A.default.weight\n",
      "base_model.model.roberta.encoder.layer.3.attention.self.key.lora_B.default.weight\n",
      "base_model.model.roberta.encoder.layer.3.attention.self.value.lora_A.default.weight\n",
      "base_model.model.roberta.encoder.layer.3.attention.self.value.lora_B.default.weight\n",
      "base_model.model.roberta.encoder.layer.4.attention.self.query.lora_A.default.weight\n",
      "base_model.model.roberta.encoder.layer.4.attention.self.query.lora_B.default.weight\n",
      "base_model.model.roberta.encoder.layer.4.attention.self.key.lora_A.default.weight\n",
      "base_model.model.roberta.encoder.layer.4.attention.self.key.lora_B.default.weight\n",
      "base_model.model.roberta.encoder.layer.4.attention.self.value.lora_A.default.weight\n",
      "base_model.model.roberta.encoder.layer.4.attention.self.value.lora_B.default.weight\n",
      "base_model.model.roberta.encoder.layer.5.attention.self.query.lora_A.default.weight\n",
      "base_model.model.roberta.encoder.layer.5.attention.self.query.lora_B.default.weight\n",
      "base_model.model.roberta.encoder.layer.5.attention.self.key.lora_A.default.weight\n",
      "base_model.model.roberta.encoder.layer.5.attention.self.key.lora_B.default.weight\n",
      "base_model.model.roberta.encoder.layer.5.attention.self.value.lora_A.default.weight\n",
      "base_model.model.roberta.encoder.layer.5.attention.self.value.lora_B.default.weight\n",
      "base_model.model.roberta.encoder.layer.6.attention.self.query.lora_A.default.weight\n",
      "base_model.model.roberta.encoder.layer.6.attention.self.query.lora_B.default.weight\n",
      "base_model.model.roberta.encoder.layer.6.attention.self.key.lora_A.default.weight\n",
      "base_model.model.roberta.encoder.layer.6.attention.self.key.lora_B.default.weight\n",
      "base_model.model.roberta.encoder.layer.6.attention.self.value.lora_A.default.weight\n",
      "base_model.model.roberta.encoder.layer.6.attention.self.value.lora_B.default.weight\n",
      "base_model.model.roberta.encoder.layer.7.attention.self.query.lora_A.default.weight\n",
      "base_model.model.roberta.encoder.layer.7.attention.self.query.lora_B.default.weight\n",
      "base_model.model.roberta.encoder.layer.7.attention.self.key.lora_A.default.weight\n",
      "base_model.model.roberta.encoder.layer.7.attention.self.key.lora_B.default.weight\n",
      "base_model.model.roberta.encoder.layer.7.attention.self.value.lora_A.default.weight\n",
      "base_model.model.roberta.encoder.layer.7.attention.self.value.lora_B.default.weight\n",
      "base_model.model.roberta.encoder.layer.8.attention.self.query.lora_A.default.weight\n",
      "base_model.model.roberta.encoder.layer.8.attention.self.query.lora_B.default.weight\n",
      "base_model.model.roberta.encoder.layer.8.attention.self.key.lora_A.default.weight\n",
      "base_model.model.roberta.encoder.layer.8.attention.self.key.lora_B.default.weight\n",
      "base_model.model.roberta.encoder.layer.8.attention.self.value.lora_A.default.weight\n",
      "base_model.model.roberta.encoder.layer.8.attention.self.value.lora_B.default.weight\n",
      "base_model.model.roberta.encoder.layer.9.attention.self.query.lora_A.default.weight\n",
      "base_model.model.roberta.encoder.layer.9.attention.self.query.lora_B.default.weight\n",
      "base_model.model.roberta.encoder.layer.9.attention.self.key.lora_A.default.weight\n",
      "base_model.model.roberta.encoder.layer.9.attention.self.key.lora_B.default.weight\n",
      "base_model.model.roberta.encoder.layer.9.attention.self.value.lora_A.default.weight\n",
      "base_model.model.roberta.encoder.layer.9.attention.self.value.lora_B.default.weight\n",
      "base_model.model.roberta.encoder.layer.10.attention.self.query.lora_A.default.weight\n",
      "base_model.model.roberta.encoder.layer.10.attention.self.query.lora_B.default.weight\n",
      "base_model.model.roberta.encoder.layer.10.attention.self.key.lora_A.default.weight\n",
      "base_model.model.roberta.encoder.layer.10.attention.self.key.lora_B.default.weight\n",
      "base_model.model.roberta.encoder.layer.10.attention.self.value.lora_A.default.weight\n",
      "base_model.model.roberta.encoder.layer.10.attention.self.value.lora_B.default.weight\n",
      "base_model.model.roberta.encoder.layer.11.attention.self.query.lora_A.default.weight\n",
      "base_model.model.roberta.encoder.layer.11.attention.self.query.lora_B.default.weight\n",
      "base_model.model.roberta.encoder.layer.11.attention.self.key.lora_A.default.weight\n",
      "base_model.model.roberta.encoder.layer.11.attention.self.key.lora_B.default.weight\n",
      "base_model.model.roberta.encoder.layer.11.attention.self.value.lora_A.default.weight\n",
      "base_model.model.roberta.encoder.layer.11.attention.self.value.lora_B.default.weight\n",
      "base_model.model.classifier.modules_to_save.default.dense.weight\n",
      "base_model.model.classifier.modules_to_save.default.dense.bias\n",
      "base_model.model.classifier.modules_to_save.default.out_proj.weight\n",
      "base_model.model.classifier.modules_to_save.default.out_proj.bias\n"
     ]
    }
   ],
   "source": [
    "print(\"Trainable parameters:\")\n",
    "for name, param in peft_model.named_parameters():\n",
    "    if param.requires_grad:\n",
    "        print(name)"
   ]
  },
  {
   "cell_type": "code",
   "execution_count": 17,
   "id": "da45f85c-b016-4c49-8808-6eafa7cb5d1b",
   "metadata": {
    "id": "da45f85c-b016-4c49-8808-6eafa7cb5d1b"
   },
   "outputs": [
    {
     "name": "stdout",
     "output_type": "stream",
     "text": [
      "PEFT Model\n",
      "trainable params: 980,740 || all params: 125,629,448 || trainable%: 0.7807\n"
     ]
    }
   ],
   "source": [
    "print('PEFT Model')\n",
    "peft_model.print_trainable_parameters()"
   ]
  },
  {
   "cell_type": "markdown",
   "id": "12284b58",
   "metadata": {
    "id": "12284b58"
   },
   "source": [
    "## Training Setup"
   ]
  },
  {
   "cell_type": "code",
   "execution_count": 18,
   "id": "0ee64c43-fe38-479a-b3c5-7d939a3db4c1",
   "metadata": {
    "id": "0ee64c43-fe38-479a-b3c5-7d939a3db4c1"
   },
   "outputs": [],
   "source": [
    "from sklearn.metrics import accuracy_score, precision_recall_fscore_support\n",
    "\n",
    "def compute_metrics(pred):\n",
    "    labels = pred.label_ids\n",
    "    preds = pred.predictions.argmax(-1)\n",
    "    accuracy = accuracy_score(labels, preds)\n",
    "    precision, recall, f1, _ = precision_recall_fscore_support(\n",
    "        labels, preds, average='weighted', zero_division=0\n",
    "    )\n",
    "    return {\n",
    "        'accuracy': accuracy,\n",
    "        'f1': f1,\n",
    "        'precision': precision,\n",
    "        'recall': recall\n",
    "    }\n"
   ]
  },
  {
   "cell_type": "code",
   "execution_count": 19,
   "id": "768b4917-65de-4e55-ae7f-698e287535d4",
   "metadata": {
    "id": "768b4917-65de-4e55-ae7f-698e287535d4"
   },
   "outputs": [],
   "source": [
    "from transformers import get_scheduler\n",
    "\n",
    "# Setup Training args\n",
    "output_dir = \"results\"\n",
    "training_args = TrainingArguments(\n",
    "    output_dir=output_dir,\n",
    "    report_to=\"none\",\n",
    "    eval_strategy='steps',\n",
    "    eval_steps=100,\n",
    "    logging_steps=50,\n",
    "    save_strategy=\"steps\",\n",
    "    save_steps=100,\n",
    "    learning_rate=5e-5,\n",
    "    num_train_epochs=5,\n",
    "    max_steps=-1,\n",
    "    warmup_ratio=0.1,\n",
    "    weight_decay=0.01,\n",
    "    lr_scheduler_type=\"cosine\",\n",
    "    use_cpu=False,\n",
    "    dataloader_num_workers=4,\n",
    "    per_device_train_batch_size=32,\n",
    "    per_device_eval_batch_size=64,\n",
    "    optim=\"adamw_torch\",\n",
    "    gradient_accumulation_steps=2,\n",
    "    fp16=True,\n",
    "    gradient_checkpointing=False,\n",
    "    gradient_checkpointing_kwargs={'use_reentrant':True},\n",
    "\n",
    "    metric_for_best_model=\"accuracy\",\n",
    "    load_best_model_at_end=True\n",
    ")\n",
    "\n",
    "def get_trainer(model):\n",
    "    return Trainer(\n",
    "        model=model,\n",
    "        args=training_args,\n",
    "        compute_metrics=compute_metrics,\n",
    "        train_dataset=train_dataset,\n",
    "        eval_dataset=eval_dataset,\n",
    "        data_collator=data_collator,\n",
    "    )"
   ]
  },
  {
   "cell_type": "markdown",
   "id": "9b848278",
   "metadata": {
    "id": "9b848278"
   },
   "source": [
    "### Start Training"
   ]
  },
  {
   "cell_type": "code",
   "execution_count": 20,
   "id": "98d9d57d-b57f-4acc-80fb-fc5443e75515",
   "metadata": {
    "id": "98d9d57d-b57f-4acc-80fb-fc5443e75515"
   },
   "outputs": [
    {
     "name": "stderr",
     "output_type": "stream",
     "text": [
      "No label_names provided for model class `PeftModelForSequenceClassification`. Since `PeftModel` hides base models input arguments, if label_names is not given, label_names can't be set automatically within `Trainer`. Note that empty label_names list will be used instead.\n"
     ]
    },
    {
     "data": {
      "text/html": [
       "\n",
       "    <div>\n",
       "      \n",
       "      <progress value='1100' max='9325' style='width:300px; height:20px; vertical-align: middle;'></progress>\n",
       "      [1100/9325 16:40 < 2:04:52, 1.10 it/s, Epoch 0/5]\n",
       "    </div>\n",
       "    <table border=\"1\" class=\"dataframe\">\n",
       "  <thead>\n",
       " <tr style=\"text-align: left;\">\n",
       "      <th>Step</th>\n",
       "      <th>Training Loss</th>\n",
       "      <th>Validation Loss</th>\n",
       "      <th>Accuracy</th>\n",
       "      <th>F1</th>\n",
       "      <th>Precision</th>\n",
       "      <th>Recall</th>\n",
       "    </tr>\n",
       "  </thead>\n",
       "  <tbody>\n",
       "    <tr>\n",
       "      <td>100</td>\n",
       "      <td>1.391000</td>\n",
       "      <td>1.387672</td>\n",
       "      <td>0.246875</td>\n",
       "      <td>0.097760</td>\n",
       "      <td>0.060947</td>\n",
       "      <td>0.246875</td>\n",
       "    </tr>\n",
       "    <tr>\n",
       "      <td>200</td>\n",
       "      <td>1.378100</td>\n",
       "      <td>1.370430</td>\n",
       "      <td>0.450000</td>\n",
       "      <td>0.352958</td>\n",
       "      <td>0.613511</td>\n",
       "      <td>0.450000</td>\n",
       "    </tr>\n",
       "    <tr>\n",
       "      <td>300</td>\n",
       "      <td>1.310700</td>\n",
       "      <td>1.255884</td>\n",
       "      <td>0.737500</td>\n",
       "      <td>0.723503</td>\n",
       "      <td>0.795555</td>\n",
       "      <td>0.737500</td>\n",
       "    </tr>\n",
       "    <tr>\n",
       "      <td>400</td>\n",
       "      <td>0.550300</td>\n",
       "      <td>0.363881</td>\n",
       "      <td>0.881250</td>\n",
       "      <td>0.881014</td>\n",
       "      <td>0.882825</td>\n",
       "      <td>0.881250</td>\n",
       "    </tr>\n",
       "    <tr>\n",
       "      <td>500</td>\n",
       "      <td>0.342700</td>\n",
       "      <td>0.322025</td>\n",
       "      <td>0.895312</td>\n",
       "      <td>0.895255</td>\n",
       "      <td>0.896047</td>\n",
       "      <td>0.895312</td>\n",
       "    </tr>\n",
       "    <tr>\n",
       "      <td>600</td>\n",
       "      <td>0.313300</td>\n",
       "      <td>0.308560</td>\n",
       "      <td>0.906250</td>\n",
       "      <td>0.906092</td>\n",
       "      <td>0.906853</td>\n",
       "      <td>0.906250</td>\n",
       "    </tr>\n",
       "    <tr>\n",
       "      <td>700</td>\n",
       "      <td>0.279400</td>\n",
       "      <td>0.292819</td>\n",
       "      <td>0.906250</td>\n",
       "      <td>0.905848</td>\n",
       "      <td>0.906768</td>\n",
       "      <td>0.906250</td>\n",
       "    </tr>\n",
       "    <tr>\n",
       "      <td>800</td>\n",
       "      <td>0.289500</td>\n",
       "      <td>0.305858</td>\n",
       "      <td>0.904687</td>\n",
       "      <td>0.904184</td>\n",
       "      <td>0.906381</td>\n",
       "      <td>0.904687</td>\n",
       "    </tr>\n",
       "    <tr>\n",
       "      <td>900</td>\n",
       "      <td>0.288300</td>\n",
       "      <td>0.292079</td>\n",
       "      <td>0.906250</td>\n",
       "      <td>0.905999</td>\n",
       "      <td>0.907023</td>\n",
       "      <td>0.906250</td>\n",
       "    </tr>\n",
       "    <tr>\n",
       "      <td>1000</td>\n",
       "      <td>0.287200</td>\n",
       "      <td>0.287599</td>\n",
       "      <td>0.904687</td>\n",
       "      <td>0.904412</td>\n",
       "      <td>0.905226</td>\n",
       "      <td>0.904687</td>\n",
       "    </tr>\n",
       "    <tr>\n",
       "      <td>1100</td>\n",
       "      <td>0.270100</td>\n",
       "      <td>0.285455</td>\n",
       "      <td>0.906250</td>\n",
       "      <td>0.905971</td>\n",
       "      <td>0.907491</td>\n",
       "      <td>0.906250</td>\n",
       "    </tr>\n",
       "  </tbody>\n",
       "</table><p>"
      ],
      "text/plain": [
       "<IPython.core.display.HTML object>"
      ]
     },
     "metadata": {},
     "output_type": "display_data"
    }
   ],
   "source": [
    "peft_lora_finetuning_trainer = get_trainer(peft_model)\n",
    "\n",
    "# Add early stopping callback to prevent overfitting\n",
    "from transformers import EarlyStoppingCallback\n",
    "early_stopping = EarlyStoppingCallback(early_stopping_patience=5)\n",
    "peft_lora_finetuning_trainer.add_callback(early_stopping)\n",
    "\n",
    "result = peft_lora_finetuning_trainer.train()\n",
    "\n",
    "# Save the best model\n",
    "peft_lora_finetuning_trainer.save_model(\"best_model\")"
   ]
  },
  {
   "cell_type": "markdown",
   "id": "5183be7e-514f-4e64-a6f4-314a827e6be5",
   "metadata": {
    "id": "5183be7e-514f-4e64-a6f4-314a827e6be5"
   },
   "source": [
    "## Evaluate Finetuned Model\n"
   ]
  },
  {
   "cell_type": "code",
   "execution_count": 21,
   "id": "012e390a",
   "metadata": {},
   "outputs": [
    {
     "data": {
      "text/html": [
       "\n",
       "    <div>\n",
       "      \n",
       "      <progress value='10' max='10' style='width:300px; height:20px; vertical-align: middle;'></progress>\n",
       "      [10/10 00:02]\n",
       "    </div>\n",
       "    "
      ],
      "text/plain": [
       "<IPython.core.display.HTML object>"
      ]
     },
     "metadata": {},
     "output_type": "display_data"
    },
    {
     "name": "stdout",
     "output_type": "stream",
     "text": [
      "Final evaluation metrics: {'eval_loss': 0.3085595369338989, 'eval_accuracy': 0.90625, 'eval_f1': 0.9060916288581531, 'eval_precision': 0.9068527980239759, 'eval_recall': 0.90625, 'eval_runtime': 25.9713, 'eval_samples_per_second': 24.643, 'eval_steps_per_second': 0.385, 'epoch': 0.5898123324396782}\n",
      "Total trainable parameters: 980740\n"
     ]
    }
   ],
   "source": [
    "# Compute and print the final evaluation metrics\n",
    "final_eval = peft_lora_finetuning_trainer.evaluate()\n",
    "print(f\"Final evaluation metrics: {final_eval}\")\n",
    "\n",
    "# Check the number of model parameters to ensure it is within 1 million\n",
    "total_params = sum(p.numel() for p in peft_model.parameters() if p.requires_grad)\n",
    "print(f\"Total trainable parameters: {total_params}\")"
   ]
  },
  {
   "cell_type": "markdown",
   "id": "038198cf-0953-47e7-bd47-b073d05f8378",
   "metadata": {
    "id": "038198cf-0953-47e7-bd47-b073d05f8378"
   },
   "source": [
    "### Performing Inference on Custom Input\n",
    "Uncomment following functions for running inference on custom inputs"
   ]
  },
  {
   "cell_type": "code",
   "execution_count": 22,
   "id": "f88ad420-3f46-4eff-9d71-0ce388163062",
   "metadata": {
    "id": "f88ad420-3f46-4eff-9d71-0ce388163062"
   },
   "outputs": [],
   "source": [
    "def classify(model, tokenizer, text):\n",
    "    device = torch.device(\"cuda\" if torch.cuda.is_available() else \"cpu\")\n",
    "    inputs = tokenizer(text, truncation=True, padding=True, return_tensors=\"pt\").to(device)\n",
    "    output = model(**inputs)\n",
    "    prediction = output.logits.argmax(dim=-1).item()\n",
    "    print(f'\\n Class: {prediction}, Label: {id2label[prediction]}, Text: {text}')\n",
    "    return id2label[prediction]"
   ]
  },
  {
   "cell_type": "code",
   "execution_count": 23,
   "id": "fc52bb94-5e13-4943-9225-a6d7fd053579",
   "metadata": {
    "id": "fc52bb94-5e13-4943-9225-a6d7fd053579"
   },
   "outputs": [
    {
     "name": "stdout",
     "output_type": "stream",
     "text": [
      "\n",
      " Class: 1, Label: Sports, Text: Kederis proclaims innocence Olympic champion Kostas Kederis today left hospital ahead of his date with IOC inquisitors claiming his ...\n",
      "\n",
      " Class: 2, Label: Business, Text: Wall St. Bears Claw Back Into the Black (Reuters) Reuters - Short-sellers, Wall Street's dwindlinand of ultra-cynics, are seeing green again.\n"
     ]
    },
    {
     "data": {
      "text/plain": [
       "'Business'"
      ]
     },
     "execution_count": 23,
     "metadata": {},
     "output_type": "execute_result"
    }
   ],
   "source": [
    "classify( peft_model, tokenizer, \"Kederis proclaims innocence Olympic champion Kostas Kederis today left hospital ahead of his date with IOC inquisitors claiming his ...\")\n",
    "classify( peft_model, tokenizer, \"Wall St. Bears Claw Back Into the Black (Reuters) Reuters - Short-sellers, Wall Street's dwindling\\band of ultra-cynics, are seeing green again.\")"
   ]
  },
  {
   "cell_type": "markdown",
   "id": "68a3e276-bf8c-4403-8a48-5ef19f2beccf",
   "metadata": {
    "id": "68a3e276-bf8c-4403-8a48-5ef19f2beccf"
   },
   "source": [
    "### Run Inference on eval_dataset"
   ]
  },
  {
   "cell_type": "code",
   "execution_count": 24,
   "id": "ebbc20a2-a1c0-4cb7-b842-f52e4de61ed5",
   "metadata": {
    "id": "ebbc20a2-a1c0-4cb7-b842-f52e4de61ed5"
   },
   "outputs": [],
   "source": [
    "from torch.utils.data import DataLoader\n",
    "import evaluate\n",
    "from tqdm import tqdm\n",
    "\n",
    "def evaluate_model(inference_model, dataset, labelled=True, batch_size=8, data_collator=None):\n",
    "    \"\"\"\n",
    "    Evaluate a PEFT model on a dataset.\n",
    "\n",
    "    Args:\n",
    "        inference_model: The model to evaluate.\n",
    "        dataset: The dataset (Hugging Face Dataset) to run inference on.\n",
    "        labelled (bool): If True, the dataset includes labels and metrics will be computed.\n",
    "                         If False, only predictions will be returned.\n",
    "        batch_size (int): Batch size for inference.\n",
    "        data_collator: Function to collate batches. If None, the default collate_fn is used.\n",
    "\n",
    "    Returns:\n",
    "        If labelled is True, returns a tuple (metrics, predictions)\n",
    "        If labelled is False, returns the predictions.\n",
    "    \"\"\"\n",
    "    # Create the DataLoader\n",
    "    eval_dataloader = DataLoader(dataset, batch_size=batch_size, collate_fn=data_collator)\n",
    "    device = torch.device(\"cuda\" if torch.cuda.is_available() else \"cpu\")\n",
    "\n",
    "    inference_model.to(device)\n",
    "    inference_model.eval()\n",
    "\n",
    "    all_predictions = []\n",
    "    if labelled:\n",
    "        metric = evaluate.load('accuracy')\n",
    "\n",
    "    # Loop over the DataLoader\n",
    "    for batch in tqdm(eval_dataloader):\n",
    "        # Move each tensor in the batch to the device\n",
    "        batch = {k: v.to(device) for k, v in batch.items()}\n",
    "        with torch.no_grad():\n",
    "            outputs = inference_model(**batch)\n",
    "        predictions = outputs.logits.argmax(dim=-1)\n",
    "        all_predictions.append(predictions.cpu())\n",
    "\n",
    "        if labelled:\n",
    "            # Expecting that labels are provided under the \"labels\" key.\n",
    "            references = batch[\"labels\"]\n",
    "            metric.add_batch(\n",
    "                predictions=predictions.cpu().numpy(),\n",
    "                references=references.cpu().numpy()\n",
    "            )\n",
    "\n",
    "    # Concatenate predictions from all batches\n",
    "    all_predictions = torch.cat(all_predictions, dim=0)\n",
    "\n",
    "    if labelled:\n",
    "        eval_metric = metric.compute()\n",
    "        print(\"Evaluation Metric:\", eval_metric)\n",
    "        return eval_metric, all_predictions\n",
    "    else:\n",
    "        return all_predictions"
   ]
  },
  {
   "cell_type": "code",
   "execution_count": 25,
   "id": "809635a6-a2c7-4d09-8d60-ababd1815003",
   "metadata": {
    "id": "809635a6-a2c7-4d09-8d60-ababd1815003"
   },
   "outputs": [
    {
     "name": "stderr",
     "output_type": "stream",
     "text": [
      "100%|██████████| 80/80 [00:02<00:00, 35.97it/s]"
     ]
    },
    {
     "name": "stdout",
     "output_type": "stream",
     "text": [
      "Evaluation Metric: {'accuracy': 0.90625}\n"
     ]
    },
    {
     "name": "stderr",
     "output_type": "stream",
     "text": [
      "\n"
     ]
    }
   ],
   "source": [
    "# Check evaluation accuracy\n",
    "_, _ = evaluate_model(peft_model, eval_dataset, True, 8, data_collator)"
   ]
  },
  {
   "cell_type": "markdown",
   "id": "75f39087-f2bb-49d3-9fe1-0d812fb30203",
   "metadata": {
    "id": "75f39087-f2bb-49d3-9fe1-0d812fb30203"
   },
   "source": [
    "### Run Inference on unlabelled dataset"
   ]
  },
  {
   "cell_type": "code",
   "execution_count": 26,
   "id": "2af62541-2c33-4f16-bb1c-cc969c715cd7",
   "metadata": {
    "id": "2af62541-2c33-4f16-bb1c-cc969c715cd7"
   },
   "outputs": [
    {
     "name": "stderr",
     "output_type": "stream",
     "text": [
      "Map: 100%|██████████| 8000/8000 [00:04<00:00, 1816.97 examples/s]\n"
     ]
    },
    {
     "data": {
      "text/plain": [
       "Dataset({\n",
       "    features: ['text'],\n",
       "    num_rows: 8000\n",
       "})"
      ]
     },
     "execution_count": 26,
     "metadata": {},
     "output_type": "execute_result"
    }
   ],
   "source": [
    "#Load your unlabelled data\n",
    "unlabelled_dataset = pd.read_pickle(\"test_unlabelled.pkl\")\n",
    "test_dataset = unlabelled_dataset.map(preprocess, batched=True, remove_columns=[\"text\"])\n",
    "unlabelled_dataset"
   ]
  },
  {
   "cell_type": "code",
   "execution_count": 27,
   "id": "e60991d3-38b1-4657-8854-408ce66f6b84",
   "metadata": {
    "id": "e60991d3-38b1-4657-8854-408ce66f6b84"
   },
   "outputs": [
    {
     "name": "stderr",
     "output_type": "stream",
     "text": [
      "100%|██████████| 1000/1000 [00:19<00:00, 50.67it/s]"
     ]
    },
    {
     "name": "stdout",
     "output_type": "stream",
     "text": [
      "Inference complete. Predictions saved to inference_output.csv\n"
     ]
    },
    {
     "name": "stderr",
     "output_type": "stream",
     "text": [
      "\n"
     ]
    }
   ],
   "source": [
    "# Run inference and save predictions\n",
    "preds = evaluate_model(peft_model, test_dataset, False, 8, data_collator)\n",
    "df_output = pd.DataFrame({\n",
    "    'ID': range(len(preds)),\n",
    "    'Label': preds.numpy()  # or preds.tolist()\n",
    "})\n",
    "df_output.to_csv(os.path.join(output_dir,\"inference_output.csv\"), index=False)\n",
    "print(\"Inference complete. Predictions saved to inference_output.csv\")"
   ]
  },
  {
   "cell_type": "code",
   "execution_count": null,
   "id": "73c9274f",
   "metadata": {},
   "outputs": [],
   "source": []
  }
 ],
 "metadata": {
  "accelerator": "GPU",
  "colab": {
   "gpuType": "T4",
   "provenance": []
  },
  "kernelspec": {
   "display_name": "accelerate",
   "language": "python",
   "name": "python3"
  },
  "language_info": {
   "codemirror_mode": {
    "name": "ipython",
    "version": 3
   },
   "file_extension": ".py",
   "mimetype": "text/x-python",
   "name": "python",
   "nbconvert_exporter": "python",
   "pygments_lexer": "ipython3",
   "version": "3.10.16"
  }
 },
 "nbformat": 4,
 "nbformat_minor": 5
}
